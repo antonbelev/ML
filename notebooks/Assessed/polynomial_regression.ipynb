{
 "metadata": {
  "name": "",
  "signature": "sha256:7fc62aa3135ca33e34344b4bd7b507bb31f6dc4507e5ba81056b850ceae096f2"
 },
 "nbformat": 3,
 "nbformat_minor": 0,
 "worksheets": [
  {
   "cells": [
    {
     "cell_type": "markdown",
     "metadata": {},
     "source": [
      "<h3>Nonlinear regression with the linear model</h3>\n",
      "<p>Start by loading the data</p>"
     ]
    },
    {
     "cell_type": "code",
     "collapsed": false,
     "input": [
      "import urllib\n",
      "urllib.urlretrieve('https://github.com/sdrogers/fcml/raw/master/notebooks/data/olympic100m.txt', 'olympic100m.txt')\n",
      "import numpy as np\n",
      "data = np.loadtxt('olympic100m.txt',delimiter=',')\n",
      "x = data[:,0][:,None]\n",
      "t = data[:,1][:,None]"
     ],
     "language": "python",
     "metadata": {},
     "outputs": [],
     "prompt_number": 1
    },
    {
     "cell_type": "markdown",
     "metadata": {},
     "source": [
      "<h4>Rescaling $x$</h4>\n",
      "<p>We re-scale the Olympic year value to help with numerical problems when we look at high orders. Satisfy yourself that this doesn't make any difference!</p>"
     ]
    },
    {
     "cell_type": "code",
     "collapsed": false,
     "input": [
      "x = (x-1896)/4"
     ],
     "language": "python",
     "metadata": {},
     "outputs": [],
     "prompt_number": 2
    },
    {
     "cell_type": "markdown",
     "metadata": {},
     "source": [
      "<h4>Creating $\\mathbf{X}$</h4>\n",
      "<p>We loop up to the desired order, adding columns to $\\mathbf{X}$ at each stage</p>"
     ]
    },
    {
     "cell_type": "code",
     "collapsed": false,
     "input": [
      "maxorder = 5\n",
      "X = np.ones_like(x)\n",
      "for i in range(1,maxorder+1):\n",
      "    X = np.hstack((X,x**i))"
     ],
     "language": "python",
     "metadata": {},
     "outputs": [],
     "prompt_number": 3
    },
    {
     "cell_type": "markdown",
     "metadata": {},
     "source": [
      "<p>Solve the system...</p>"
     ]
    },
    {
     "cell_type": "code",
     "collapsed": false,
     "input": [
      "w = np.linalg.solve(np.dot(X.T,X),np.dot(X.T,t))\n",
      "print(w)"
     ],
     "language": "python",
     "metadata": {},
     "outputs": [
      {
       "output_type": "stream",
       "stream": "stdout",
       "text": [
        "[[  1.17609670e+01]\n",
        " [ -4.53086023e-01]\n",
        " [  6.99555283e-02]\n",
        " [ -5.37006803e-03]\n",
        " [  1.88766668e-04]\n",
        " [ -2.46275398e-06]]\n"
       ]
      }
     ],
     "prompt_number": 4
    },
    {
     "cell_type": "markdown",
     "metadata": {},
     "source": [
      "Create a test set in the same manner as $\\mathbf{X}$..."
     ]
    },
    {
     "cell_type": "code",
     "collapsed": false,
     "input": [
      "x_test = np.linspace(0,30,100)[:,None]\n",
      "X_test = np.ones_like(x_test)\n",
      "for i in range(1,maxorder+1):\n",
      "    X_test = np.hstack((X_test,x_test**i))\n",
      "f_test = np.dot(X_test,w)"
     ],
     "language": "python",
     "metadata": {},
     "outputs": [],
     "prompt_number": 5
    },
    {
     "cell_type": "code",
     "collapsed": false,
     "input": [
      "import pylab as plt\n",
      "%matplotlib inline\n",
      "plt.plot(x_test,f_test,'b-',linewidth=2)\n",
      "plt.plot(x,t,'ro')"
     ],
     "language": "python",
     "metadata": {},
     "outputs": [
      {
       "metadata": {},
       "output_type": "pyout",
       "prompt_number": 6,
       "text": [
        "[<matplotlib.lines.Line2D at 0x108807410>]"
       ]
      },
      {
       "metadata": {},
       "output_type": "display_data",
       "png": "[encoded data removed]",
       "text": [
        "<matplotlib.figure.Figure at 0x10a07ee10>"
       ]
      }
     ],
     "prompt_number": 6
    },
    {
     "cell_type": "markdown",
     "metadata": {},
     "source": [
      "<p>Try playing with the maximum order and extending the test data range...</p>"
     ]
    }
   ],
   "metadata": {}
  }
 ]
}