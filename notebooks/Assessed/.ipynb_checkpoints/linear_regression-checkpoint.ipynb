{
 "cells": [
  {
   "cell_type": "markdown",
   "metadata": {},
   "source": [
    "<h3>Linear regression</h3>\n",
    "<p>We start by loading the red wine's data</p>"
   ]
  },
  {
   "cell_type": "code",
   "execution_count": 100,
   "metadata": {
    "collapsed": false
   },
   "outputs": [],
   "source": [
    "import urllib\n",
    "urllib.urlretrieve('https://archive.ics.uci.edu/ml/machine-learning-databases/wine-quality/winequality-red.csv', 'winequality-red.csv')\n",
    "import numpy as np\n",
    "with open('winequality-red.csv') as f:\n",
    "    lines = (line for line in f)\n",
    "    data = np.loadtxt(lines, delimiter=';', skiprows=1)\n",
    "#X = data[:,:11]\n",
    "q = data[:,11]"
   ]
  },
  {
   "cell_type": "code",
   "execution_count": 101,
   "metadata": {
    "collapsed": false,
    "scrolled": true
   },
   "outputs": [],
   "source": [
    "import urllib\n",
    "urllib.urlretrieve('https://archive.ics.uci.edu/ml/machine-learning-databases/wine-quality/winequality-white.csv', 'winequality-white.csv')\n",
    "import numpy as np\n",
    "with open('winequality-white.csv') as fw:\n",
    "    lines_white = (line for line in fw)\n",
    "    data_white = np.loadtxt(lines_white, delimiter=';', skiprows=1)\n",
    "q_white = data_white[:,11]"
   ]
  },
  {
   "cell_type": "markdown",
   "metadata": {},
   "source": [
    "<h4>Plotting</h4>\n",
    "<p>It's useful to start with a plot. Histogram of the quality, for the red wine data.</p>"
   ]
  },
  {
   "cell_type": "code",
   "execution_count": 102,
   "metadata": {
    "collapsed": false
   },
   "outputs": [
    {
     "data": {
      "text/plain": [
       "(array([  10.,   53.,  681.,  638.,  217.]),\n",
       " array([ 3.,  4.,  5.,  6.,  7.,  8.]),\n",
       " <a list of 5 Patch objects>)"
      ]
     },
     "execution_count": 102,
     "metadata": {},
     "output_type": "execute_result"
    },
    {
     "data": {
      "image/png": "[encoded data removed]",
      "text/plain": [
       "<matplotlib.figure.Figure at 0xb26bdb0>"
      ]
     },
     "metadata": {},
     "output_type": "display_data"
    }
   ],
   "source": [
    "%matplotlib inline\n",
    "import pylab as plt\n",
    "plt.hist(q, bins=np.arange(q.min(), q.max()+1), align='left')"
   ]
  },
  {
   "cell_type": "code",
   "execution_count": 103,
   "metadata": {
    "collapsed": false
   },
   "outputs": [
    {
     "data": {
      "text/plain": [
       "(array([   20.,   163.,  1457.,  2198.,   880.,   180.]),\n",
       " array([ 3.,  4.,  5.,  6.,  7.,  8.,  9.]),\n",
       " <a list of 6 Patch objects>)"
      ]
     },
     "execution_count": 103,
     "metadata": {},
     "output_type": "execute_result"
    },
    {
     "data": {
      "image/png": "[encoded data removed]",
      "text/plain": [
       "<matplotlib.figure.Figure at 0xb56e390>"
      ]
     },
     "metadata": {},
     "output_type": "display_data"
    }
   ],
   "source": [
    "%matplotlib inline\n",
    "import pylab as plt\n",
    "plt.hist(q_white, bins=np.arange(q_white.min(), q_white.max()+1), align='left')"
   ]
  },
  {
   "cell_type": "code",
   "execution_count": 118,
   "metadata": {
    "collapsed": false
   },
   "outputs": [
    {
     "name": "stdout",
     "output_type": "stream",
     "text": [
      "0/100...\n",
      "Linear regression with minimised square loss. Mean Square Error = 0.879890543116\n",
      "10/100...\n",
      "Linear regression with minimised square loss. Mean Square Error = 0.876277079487\n",
      "20/100...\n",
      "Linear regression with minimised square loss. Mean Square Error = 0.881395067319\n",
      "30/100...\n",
      "Linear regression with minimised square loss. Mean Square Error = 0.948592533593\n",
      "40/100...\n",
      "Linear regression with minimised square loss. Mean Square Error = 0.899000203687\n",
      "50/100...\n",
      "Linear regression with minimised square loss. Mean Square Error = 0.855030234183\n",
      "60/100...\n",
      "Linear regression with minimised square loss. Mean Square Error = 0.896202490525\n",
      "70/100...\n",
      "Linear regression with minimised square loss. Mean Square Error = 0.881680636184\n",
      "80/100...\n",
      "Linear regression with minimised square loss. Mean Square Error = 0.892207941546\n",
      "90/100...\n",
      "Linear regression with minimised square loss. Mean Square Error = 0.902809016108\n"
     ]
    }
   ],
   "source": [
    "errors = []\n",
    "for i in range(100):\n",
    "    if i%10 == 0:\n",
    "        print str(i) + \"/100...\" \n",
    "    N = data.shape[0] #get tupple (numRows, numCols)\n",
    "    np.random.shuffle(data)\n",
    "\n",
    "    train = data[:int(N*0.7)]\n",
    "    test = data[int(N*0.7):]\n",
    "    X_train = train[:,:11]\n",
    "\n",
    "    X_train = np.c_[np.ones(train.shape[0]), X_train] # append 1s as first column\n",
    "    q_train = train[:,11]\n",
    "    #print len(data), len(test), len(train)\n",
    "    #data is now splitted into train and test\n",
    "\n",
    "    from numpy.linalg import inv\n",
    "    XtX = np.dot(X_train.T, X_train) \n",
    "    XtXI = inv(XtX)\n",
    "    XtXIXt = np.dot(XtXI, X_train.T)\n",
    "    wbar = np.dot(XtXIXt, q_train)\n",
    "    #print \"wbar\", wbar\n",
    "    #optimal values for the wbar are now found. For these values we are minimizing the Loss agianst the train data\n",
    "\n",
    "\n",
    "    #now plotting the new fitted model\n",
    "    X_test = test[:,:11]\n",
    "    X_test = np.c_[np.ones(test.shape[0]), X_test]\n",
    "    f_test = np.dot(X_test, wbar)\n",
    "    \n",
    "    meanSquareError = ((q_test-f_test)**2).mean()\n",
    "    if i%10 == 0:\n",
    "        print \"Linear regression with minimised square loss. Mean Square Error =\", meanSquareError\n",
    "    errors += [meanSquareError]\n",
    "    #print \"Linear regression with minimised square loss. Mean Square Error =\", meanSquareError\n",
    "    plt.scatter(f_test,q_test, color='blue')\n",
    "    plt.xlabel('Red wine test data quality')\n",
    "    plt.ylabel('Red wine predicted quality')\n",
    "    plt.close()\n"
   ]
  },
  {
   "cell_type": "code",
   "execution_count": 119,
   "metadata": {
    "collapsed": false
   },
   "outputs": [
    {
     "data": {
      "text/plain": [
       "(array([  3.,   6.,  13.,  14.,  19.,  11.,   9.,  14.,   7.,   4.]),\n",
       " array([ 0.83002926,  0.84636655,  0.86270384,  0.87904114,  0.89537843,\n",
       "         0.91171572,  0.92805301,  0.94439031,  0.9607276 ,  0.97706489,\n",
       "         0.99340219]),\n",
       " <a list of 10 Patch objects>)"
      ]
     },
     "execution_count": 119,
     "metadata": {},
     "output_type": "execute_result"
    },
    {
     "data": {
      "image/png": "[encoded data removed]",
      "text/plain": [
       "<matplotlib.figure.Figure at 0xaded350>"
      ]
     },
     "metadata": {},
     "output_type": "display_data"
    }
   ],
   "source": [
    "plt.hist(errors)"
   ]
  },
  {
   "cell_type": "code",
   "execution_count": null,
   "metadata": {
    "collapsed": true
   },
   "outputs": [],
   "source": []
  }
 ],
 "metadata": {
  "kernelspec": {
   "display_name": "Python 2",
   "language": "python",
   "name": "python2"
  },
  "language_info": {
   "codemirror_mode": {
    "name": "ipython",
    "version": 2
   },
   "file_extension": ".py",
   "mimetype": "text/x-python",
   "name": "python",
   "nbconvert_exporter": "python",
   "pygments_lexer": "ipython2",
   "version": "2.7.8"
  }
 },
 "nbformat": 4,
 "nbformat_minor": 0
}
